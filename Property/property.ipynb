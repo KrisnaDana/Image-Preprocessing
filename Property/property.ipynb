{
 "cells": [
  {
   "cell_type": "code",
   "execution_count": 1,
   "metadata": {},
   "outputs": [
    {
     "name": "stdout",
     "output_type": "stream",
     "text": [
      "\n",
      "\n"
     ]
    }
   ],
   "source": [
    "import cv2\n",
    "import tkinter as tk\n",
    "from tkinter import filedialog\n",
    "from tkinter.filedialog import askopenfile\n",
    "from PIL import Image, ImageTk\n",
    "\n",
    "\n",
    "window = tk.Tk()\n",
    "window.geometry(\"900x500\")\n",
    "window.columnconfigure(0, weight=18) \n",
    "window.columnconfigure(1, weight=1)\n",
    "window.columnconfigure(2, weight=6)\n",
    "window.title('Image Property')\n",
    "\n",
    "label_title = tk.Label(window,text='Image Property',font=('times', 16))\n",
    "label_title.grid(row=0, column=1, columnspan=2, pady=(20, 10), sticky=\"w\")\n",
    "\n",
    "button_upload = tk.Button(window, text='Choose File', width=17, command=lambda:upload_file()) \n",
    "button_upload.grid(row=1, column=1, columnspan=2, pady=(0,20), sticky=\"w\")\n",
    "\n",
    "label_resolution = tk.Label(window, text=\"Resolution      : \", font=('times', 12))\n",
    "label_resolution.grid(row=2, column=1, sticky=\"w\")\n",
    "\n",
    "label_colordepth = tk.Label(window, text=\"Color Depth   : \", font=('times', 12))\n",
    "label_colordepth.grid(row=3, column=1, sticky=\"w\")\n",
    "\n",
    "def upload_file():\n",
    "    global label_resolution_value\n",
    "    global label_colordepth_value\n",
    "    global label_colordepth_RGB_value\n",
    "    global img\n",
    "\n",
    "    try:\n",
    "        label_resolution_value.grid_remove()\n",
    "        label_colordepth_value.grid_remove()\n",
    "        label_colordepth_RGB_value.grid_remove()\n",
    "    except:\n",
    "        print(\"\")\n",
    "    finally:\n",
    "        f_types = [('Image File', ['*.jpg', '*.jpeg', '*.png'])]\n",
    "        filename = filedialog.askopenfilename(filetypes=f_types)\n",
    "        \n",
    "        open_image = Image.open(filename)\n",
    "        resize_image = open_image.resize((400, 400), Image.Resampling.LANCZOS)\n",
    "        img = ImageTk.PhotoImage(resize_image) \n",
    "        label_image = tk.Label(window, image=img)\n",
    "        label_image.place(x=0, y=0)\n",
    "\n",
    "        image = cv2.imread(filename, cv2.IMREAD_UNCHANGED)\n",
    "\n",
    "        resolution = str(image.shape[1]) + \" x \" + str(image.shape[0])\n",
    "        label_resolution_value = tk.Label(window,text=resolution, font=('times', 12))\n",
    "        label_resolution_value.grid(row=2,column=2, sticky=\"w\")\n",
    "\n",
    "        #bpp = Bit Per Pixel\n",
    "        mode_to_bpp = {'1':1, 'L':8, 'P':8, 'RGB':24, 'RGBA':32, 'CMYK':32, 'YCbCr':24, 'I':32, 'F':32}\n",
    "        color_depth = \"\" + str(mode_to_bpp[open_image.mode]) + \" Bit\"\n",
    "        label_colordepth_value = tk.Label(window,text=color_depth, font=('times', 12))\n",
    "        label_colordepth_value.grid(row=3,column=2, sticky=\"w\")\n",
    "\n",
    "window.mainloop()"
   ]
  }
 ],
 "metadata": {
  "kernelspec": {
   "display_name": "Python 3.10.5 64-bit",
   "language": "python",
   "name": "python3"
  },
  "language_info": {
   "codemirror_mode": {
    "name": "ipython",
    "version": 3
   },
   "file_extension": ".py",
   "mimetype": "text/x-python",
   "name": "python",
   "nbconvert_exporter": "python",
   "pygments_lexer": "ipython3",
   "version": "3.10.5"
  },
  "orig_nbformat": 4,
  "vscode": {
   "interpreter": {
    "hash": "8c3d4d9970fc5c09c50d9318a9c7fbf4d0159e4b28833276f5678ee22bded273"
   }
  }
 },
 "nbformat": 4,
 "nbformat_minor": 2
}
