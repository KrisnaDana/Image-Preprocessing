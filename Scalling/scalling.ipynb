{
 "cells": [
  {
   "cell_type": "code",
   "execution_count": 1,
   "metadata": {},
   "outputs": [
    {
     "name": "stdout",
     "output_type": "stream",
     "text": [
      "\n"
     ]
    }
   ],
   "source": [
    "import cv2\n",
    "import tkinter as tk\n",
    "from tkinter import filedialog\n",
    "from tkinter.filedialog import askopenfile\n",
    "from PIL import Image, ImageTk\n",
    "import skimage\n",
    "import numpy as np\n",
    "\n",
    "window = tk.Tk()\n",
    "window.geometry(\"1700x900\")\n",
    "window.columnconfigure(0, weight=1) \n",
    "window.columnconfigure(1, weight=4)\n",
    "window.title('Image Scalling')\n",
    "\n",
    "label_title = tk.Label(window,text='              Image',font=('times', 16))\n",
    "label_title.grid(row=0, column=0, pady=(20, 10), padx=(20, 0), sticky=\"w\")\n",
    "\n",
    "button_upload = tk.Button(window, text='Choose File', width=27, command=lambda:upload_file()) \n",
    "button_upload.grid(row=1, column=0, pady=(0,20), padx=(20, 0), sticky=\"w\")\n",
    "\n",
    "label_scalling = tk.Label(window,text='           Scalling',font=('times', 16))\n",
    "label_scalling.grid(row=0, column=1, rowspan=1, pady=(20, 10), padx=(20, 0), sticky=\"w\")\n",
    "\n",
    "def upload_file():\n",
    "    global label_image_upload\n",
    "    global label_image_scalling\n",
    "\n",
    "    try:\n",
    "        label_image_upload.grid_remove()\n",
    "        label_image_scalling.grid_remove()\n",
    "    except:\n",
    "        print(\"\")\n",
    "    finally:  \n",
    "        #Image Upload\n",
    "        image_type = [('Image File', ['*.jpg', '*.jpeg', '*.png'])]\n",
    "        image_name = filedialog.askopenfilename(filetypes=image_type)\n",
    "        image_upload_open = Image.open(image_name)\n",
    "        image_upload_resize = image_upload_open.resize((197, 197), Image.Resampling.LANCZOS)\n",
    "        image_upload = ImageTk.PhotoImage(image_upload_resize)\n",
    "        label_image_upload = tk.Label(window, image=image_upload)\n",
    "        label_image_upload.image = image_upload\n",
    "        label_image_upload.grid(row=2, column=0, pady=(0,20), padx=(20, 0), sticky=\"w\")\n",
    "\n",
    "        #Image Property\n",
    "        image = cv2.imread(image_name, cv2.IMREAD_UNCHANGED)\n",
    "        w = image.shape[1]\n",
    "        h = image.shape[0]\n",
    "        mode = {'1':1, 'L':8, 'P':8, 'RGB':24, 'RGBA':32, 'CMYK':32, 'YCbCr':24, 'I':32, 'F':32}\n",
    "        image_depth = mode[image_upload_open.mode]\n",
    "\n",
    "        #Image Scalling\n",
    "        sw = 2 #SCALLING WIDTH >= 1\n",
    "        sh = 2 #SCALLING HEIGHT >= 1\n",
    "        w_ = w * sw\n",
    "        h_ = h * sh\n",
    "        if image_depth == 8:\n",
    "            image_scalling = np.zeros((h_, w_))\n",
    "        elif image_depth == 24:\n",
    "            image_scalling = np.zeros((h_, w_, 3))\n",
    "            \n",
    "        image_scalling_temp = skimage.io.imread(fname=image_name)\n",
    "        if image_depth == 8 or image_depth == 24:\n",
    "            y_ = 0\n",
    "            for y in range(0, h_):\n",
    "                if y != 0 and y % sh == 0:\n",
    "                    y_+=1\n",
    "                x_ = 0\n",
    "                for x in range(0, w_):\n",
    "                    if x != 0 and x % sw == 0:\n",
    "                        x_+=1\n",
    "                    image_scalling[y][x] = image_scalling_temp[y_][x_]\n",
    "                    \n",
    "        image_scalling = Image.fromarray((image_scalling*1).astype(np.uint8))\n",
    "        image_scalling = ImageTk.PhotoImage(image_scalling)\n",
    "        label_image_scalling = tk.Label(window, image=image_scalling)\n",
    "        label_image_scalling.image = image_scalling\n",
    "        label_image_scalling.grid(row=2, column=1, pady=(0,20), padx=(20, 0), sticky=\"w\")\n",
    "\n",
    "window.mainloop()"
   ]
  }
 ],
 "metadata": {
  "kernelspec": {
   "display_name": "Python 3.10.5 64-bit",
   "language": "python",
   "name": "python3"
  },
  "language_info": {
   "codemirror_mode": {
    "name": "ipython",
    "version": 3
   },
   "file_extension": ".py",
   "mimetype": "text/x-python",
   "name": "python",
   "nbconvert_exporter": "python",
   "pygments_lexer": "ipython3",
   "version": "3.10.5"
  },
  "orig_nbformat": 4,
  "vscode": {
   "interpreter": {
    "hash": "8c3d4d9970fc5c09c50d9318a9c7fbf4d0159e4b28833276f5678ee22bded273"
   }
  }
 },
 "nbformat": 4,
 "nbformat_minor": 2
}
